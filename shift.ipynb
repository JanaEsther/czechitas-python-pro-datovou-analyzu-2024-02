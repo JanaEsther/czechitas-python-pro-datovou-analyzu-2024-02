{
 "cells": [
  {
   "cell_type": "code",
   "execution_count": 1,
   "metadata": {},
   "outputs": [
    {
     "name": "stderr",
     "output_type": "stream",
     "text": [
      "C:\\Users\\Jana Obendraufova\\AppData\\Local\\Temp\\ipykernel_21240\\3284921163.py:1: DeprecationWarning: \n",
      "Pyarrow will become a required dependency of pandas in the next major release of pandas (pandas 3.0),\n",
      "(to allow more performant data types, such as the Arrow string type, and better interoperability with other libraries)\n",
      "but was not found to be installed on your system.\n",
      "If this would cause problems for you,\n",
      "please provide us feedback at https://github.com/pandas-dev/pandas/issues/54466\n",
      "        \n",
      "  import pandas as pd\n"
     ]
    }
   ],
   "source": [
    "import pandas as pd\n",
    "\n",
    "signal_monitoring = pd.read_csv(\"signal_monitoring.csv\")\n",
    "signal_monitoring[\"event_date_time\"] = pd.to_datetime(signal_monitoring[\"event_date_time\"])"
   ]
  },
  {
   "cell_type": "code",
   "execution_count": 2,
   "metadata": {},
   "outputs": [
    {
     "data": {
      "text/html": [
       "<div>\n",
       "<style scoped>\n",
       "    .dataframe tbody tr th:only-of-type {\n",
       "        vertical-align: middle;\n",
       "    }\n",
       "\n",
       "    .dataframe tbody tr th {\n",
       "        vertical-align: top;\n",
       "    }\n",
       "\n",
       "    .dataframe thead th {\n",
       "        text-align: right;\n",
       "    }\n",
       "</style>\n",
       "<table border=\"1\" class=\"dataframe\">\n",
       "  <thead>\n",
       "    <tr style=\"text-align: right;\">\n",
       "      <th></th>\n",
       "      <th>event_type</th>\n",
       "      <th>event_date_time</th>\n",
       "      <th>event_date_time_shift</th>\n",
       "      <th>outage_length</th>\n",
       "      <th>date</th>\n",
       "    </tr>\n",
       "  </thead>\n",
       "  <tbody>\n",
       "    <tr>\n",
       "      <th>0</th>\n",
       "      <td>signal lost</td>\n",
       "      <td>2021-02-03 00:40:08</td>\n",
       "      <td>2021-02-03 01:14:11</td>\n",
       "      <td>0 days 00:34:03</td>\n",
       "      <td>2021-02-03</td>\n",
       "    </tr>\n",
       "    <tr>\n",
       "      <th>2</th>\n",
       "      <td>signal lost</td>\n",
       "      <td>2021-02-05 19:14:19</td>\n",
       "      <td>2021-02-05 19:46:29</td>\n",
       "      <td>0 days 00:32:10</td>\n",
       "      <td>2021-02-05</td>\n",
       "    </tr>\n",
       "    <tr>\n",
       "      <th>4</th>\n",
       "      <td>signal lost</td>\n",
       "      <td>2021-02-06 14:31:34</td>\n",
       "      <td>2021-02-06 14:48:24</td>\n",
       "      <td>0 days 00:16:50</td>\n",
       "      <td>2021-02-06</td>\n",
       "    </tr>\n",
       "    <tr>\n",
       "      <th>6</th>\n",
       "      <td>signal lost</td>\n",
       "      <td>2021-02-08 04:59:20</td>\n",
       "      <td>2021-02-08 05:38:29</td>\n",
       "      <td>0 days 00:39:09</td>\n",
       "      <td>2021-02-08</td>\n",
       "    </tr>\n",
       "    <tr>\n",
       "      <th>8</th>\n",
       "      <td>signal lost</td>\n",
       "      <td>2021-02-09 14:21:25</td>\n",
       "      <td>2021-02-09 14:42:22</td>\n",
       "      <td>0 days 00:20:57</td>\n",
       "      <td>2021-02-09</td>\n",
       "    </tr>\n",
       "  </tbody>\n",
       "</table>\n",
       "</div>"
      ],
      "text/plain": [
       "    event_type     event_date_time event_date_time_shift   outage_length  \\\n",
       "0  signal lost 2021-02-03 00:40:08   2021-02-03 01:14:11 0 days 00:34:03   \n",
       "2  signal lost 2021-02-05 19:14:19   2021-02-05 19:46:29 0 days 00:32:10   \n",
       "4  signal lost 2021-02-06 14:31:34   2021-02-06 14:48:24 0 days 00:16:50   \n",
       "6  signal lost 2021-02-08 04:59:20   2021-02-08 05:38:29 0 days 00:39:09   \n",
       "8  signal lost 2021-02-09 14:21:25   2021-02-09 14:42:22 0 days 00:20:57   \n",
       "\n",
       "         date  \n",
       "0  2021-02-03  \n",
       "2  2021-02-05  \n",
       "4  2021-02-06  \n",
       "6  2021-02-08  \n",
       "8  2021-02-09  "
      ]
     },
     "execution_count": 2,
     "metadata": {},
     "output_type": "execute_result"
    }
   ],
   "source": [
    "signal_monitoring[\"event_date_time\"] = pd.to_datetime(signal_monitoring[\"event_date_time\"])\n",
    "signal_monitoring[\"event_date_time_shift\"] = signal_monitoring[\"event_date_time\"].shift(-1)\n",
    "signal_monitoring[\"outage_length\"] = signal_monitoring[\"event_date_time_shift\"] - signal_monitoring[\"event_date_time\"]\n",
    "signal_monitoring[\"date\"] = signal_monitoring[\"event_date_time\"].dt.date\n",
    "signal_monitoring = signal_monitoring[signal_monitoring[\"event_type\"] == \"signal lost\"]\n",
    "signal_monitoring.head()\n",
    "\n"
   ]
  },
  {
   "cell_type": "code",
   "execution_count": 3,
   "metadata": {},
   "outputs": [
    {
     "data": {
      "text/plain": [
       "date\n",
       "2021-02-03   0 days 00:34:03\n",
       "2021-02-05   0 days 00:32:10\n",
       "2021-02-06   0 days 00:16:50\n",
       "2021-02-08   0 days 00:39:09\n",
       "2021-02-09   0 days 00:44:38\n",
       "2021-02-12   0 days 01:02:07\n",
       "2021-02-13   0 days 00:15:34\n",
       "2021-02-15   0 days 00:50:33\n",
       "2021-02-16   0 days 00:13:26\n",
       "2021-02-18   0 days 00:47:35\n",
       "2021-02-19   0 days 00:12:33\n",
       "2021-02-22   0 days 00:59:46\n",
       "Name: outage_length, dtype: timedelta64[ns]"
      ]
     },
     "execution_count": 3,
     "metadata": {},
     "output_type": "execute_result"
    }
   ],
   "source": [
    "signal_monitoring.groupby(\"date\")[\"outage_length\"].sum()"
   ]
  }
 ],
 "metadata": {
  "kernelspec": {
   "display_name": "Python 3",
   "language": "python",
   "name": "python3"
  },
  "language_info": {
   "codemirror_mode": {
    "name": "ipython",
    "version": 3
   },
   "file_extension": ".py",
   "mimetype": "text/x-python",
   "name": "python",
   "nbconvert_exporter": "python",
   "pygments_lexer": "ipython3",
   "version": "3.12.2"
  }
 },
 "nbformat": 4,
 "nbformat_minor": 2
}
