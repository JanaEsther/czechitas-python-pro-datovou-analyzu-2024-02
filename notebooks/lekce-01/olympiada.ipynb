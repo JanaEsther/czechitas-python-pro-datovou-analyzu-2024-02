{
 "cells": [
  {
   "cell_type": "code",
   "execution_count": 1,
   "metadata": {},
   "outputs": [],
   "source": [
    "import pandas as pd\n",
    "import matplotlib.pyplot as plt\n",
    "import seaborn as sns\n",
    "import numpy as np\n",
    "import statistics"
   ]
  },
  {
   "cell_type": "code",
   "execution_count": 4,
   "metadata": {},
   "outputs": [
    {
     "data": {
      "text/html": [
       "<div>\n",
       "<style scoped>\n",
       "    .dataframe tbody tr th:only-of-type {\n",
       "        vertical-align: middle;\n",
       "    }\n",
       "\n",
       "    .dataframe tbody tr th {\n",
       "        vertical-align: top;\n",
       "    }\n",
       "\n",
       "    .dataframe thead th {\n",
       "        text-align: right;\n",
       "    }\n",
       "</style>\n",
       "<table border=\"1\" class=\"dataframe\">\n",
       "  <thead>\n",
       "    <tr style=\"text-align: right;\">\n",
       "      <th></th>\n",
       "      <th>Země</th>\n",
       "      <th>Zlato</th>\n",
       "      <th>Stříbro</th>\n",
       "      <th>Bronz</th>\n",
       "    </tr>\n",
       "  </thead>\n",
       "  <tbody>\n",
       "    <tr>\n",
       "      <th>0</th>\n",
       "      <td>Spojené státy americké</td>\n",
       "      <td>46</td>\n",
       "      <td>37</td>\n",
       "      <td>38</td>\n",
       "    </tr>\n",
       "    <tr>\n",
       "      <th>1</th>\n",
       "      <td>Spojené království</td>\n",
       "      <td>27</td>\n",
       "      <td>23</td>\n",
       "      <td>17</td>\n",
       "    </tr>\n",
       "    <tr>\n",
       "      <th>2</th>\n",
       "      <td>Čína</td>\n",
       "      <td>26</td>\n",
       "      <td>18</td>\n",
       "      <td>26</td>\n",
       "    </tr>\n",
       "    <tr>\n",
       "      <th>3</th>\n",
       "      <td>Rusko</td>\n",
       "      <td>19</td>\n",
       "      <td>18</td>\n",
       "      <td>19</td>\n",
       "    </tr>\n",
       "    <tr>\n",
       "      <th>4</th>\n",
       "      <td>Německo</td>\n",
       "      <td>17</td>\n",
       "      <td>10</td>\n",
       "      <td>15</td>\n",
       "    </tr>\n",
       "    <tr>\n",
       "      <th>...</th>\n",
       "      <td>...</td>\n",
       "      <td>...</td>\n",
       "      <td>...</td>\n",
       "      <td>...</td>\n",
       "    </tr>\n",
       "    <tr>\n",
       "      <th>82</th>\n",
       "      <td>Moldavsko</td>\n",
       "      <td>0</td>\n",
       "      <td>0</td>\n",
       "      <td>1</td>\n",
       "    </tr>\n",
       "    <tr>\n",
       "      <th>83</th>\n",
       "      <td>Nigérie</td>\n",
       "      <td>0</td>\n",
       "      <td>0</td>\n",
       "      <td>1</td>\n",
       "    </tr>\n",
       "    <tr>\n",
       "      <th>84</th>\n",
       "      <td>Portugalsko</td>\n",
       "      <td>0</td>\n",
       "      <td>0</td>\n",
       "      <td>1</td>\n",
       "    </tr>\n",
       "    <tr>\n",
       "      <th>85</th>\n",
       "      <td>Trinidad a Tobago</td>\n",
       "      <td>0</td>\n",
       "      <td>0</td>\n",
       "      <td>1</td>\n",
       "    </tr>\n",
       "    <tr>\n",
       "      <th>86</th>\n",
       "      <td>Spojené arabské emiráty</td>\n",
       "      <td>0</td>\n",
       "      <td>0</td>\n",
       "      <td>1</td>\n",
       "    </tr>\n",
       "  </tbody>\n",
       "</table>\n",
       "<p>87 rows × 4 columns</p>\n",
       "</div>"
      ],
      "text/plain": [
       "                       Země  Zlato  Stříbro  Bronz\n",
       "0    Spojené státy americké     46       37     38\n",
       "1        Spojené království     27       23     17\n",
       "2                      Čína     26       18     26\n",
       "3                     Rusko     19       18     19\n",
       "4                   Německo     17       10     15\n",
       "..                      ...    ...      ...    ...\n",
       "82                Moldavsko      0        0      1\n",
       "83                  Nigérie      0        0      1\n",
       "84              Portugalsko      0        0      1\n",
       "85        Trinidad a Tobago      0        0      1\n",
       "86  Spojené arabské emiráty      0        0      1\n",
       "\n",
       "[87 rows x 4 columns]"
      ]
     },
     "execution_count": 4,
     "metadata": {},
     "output_type": "execute_result"
    }
   ],
   "source": [
    "data = pd.read_csv(\"olympiada.csv\")\n",
    "data"
   ]
  },
  {
   "cell_type": "code",
   "execution_count": 5,
   "metadata": {},
   "outputs": [
    {
     "data": {
      "text/plain": [
       "0     46\n",
       "1     27\n",
       "2     26\n",
       "3     19\n",
       "4     17\n",
       "      ..\n",
       "82     0\n",
       "83     0\n",
       "84     0\n",
       "85     0\n",
       "86     0\n",
       "Name: Zlato, Length: 87, dtype: int64"
      ]
     },
     "execution_count": 5,
     "metadata": {},
     "output_type": "execute_result"
    }
   ],
   "source": [
    "data[\"Zlato\"]"
   ]
  },
  {
   "cell_type": "code",
   "execution_count": 6,
   "metadata": {},
   "outputs": [
    {
     "data": {
      "text/plain": [
       "array([46, 27, 26, 19, 17, 12, 10,  9,  8,  7,  6,  5,  4,  3,  2,  1,  0],\n",
       "      dtype=int64)"
      ]
     },
     "execution_count": 6,
     "metadata": {},
     "output_type": "execute_result"
    }
   ],
   "source": [
    "data[\"Zlato\"].unique()"
   ]
  },
  {
   "cell_type": "code",
   "execution_count": 11,
   "metadata": {},
   "outputs": [
    {
     "data": {
      "text/plain": [
       "307"
      ]
     },
     "execution_count": 11,
     "metadata": {},
     "output_type": "execute_result"
    }
   ],
   "source": [
    "zlate_medaile = data[\"Zlato\"].sum() #Celkový počet zlatých medailí - 307\n",
    "zlate_medaile"
   ]
  },
  {
   "cell_type": "code",
   "execution_count": 7,
   "metadata": {},
   "outputs": [
    {
     "data": {
      "text/plain": [
       "array(['Spojené státy americké', 'Spojené království', 'Čína', 'Rusko',\n",
       "       'Německo', 'Japonsko', 'Francie', 'Jižní Korea', 'Itálie',\n",
       "       'Austrálie', 'Nizozemsko', 'Maďarsko', 'Brazílie', 'Španělsko',\n",
       "       'Keňa', 'Jamajka', 'Chorvatsko', 'Kuba', 'Nový Zéland', 'Kanada',\n",
       "       'Uzbekistán', 'Kazachstán', 'Kolumbie', 'Švýcarsko', 'Irán',\n",
       "       'Řecko', 'Argentina', 'Dánsko', 'Švédsko', 'Jihoafrická republika',\n",
       "       'Ukrajina', 'Srbsko', 'Polsko', 'Severní Korea', 'Belgie',\n",
       "       'Thajsko', 'Slovensko', 'Gruzie', 'Ázerbájdžán', 'Bělorusko',\n",
       "       'Turecko', 'Arménie', 'Česko', 'Etiopie', 'Slovinsko', 'Indonésie',\n",
       "       'Rumunsko', 'Bahrajn', 'Vietnam', 'Tchaj-wan', 'Bahamy',\n",
       "       'Pobřeží slonoviny', 'Individuální olympijští atleti', 'Fidži',\n",
       "       'Jordánsko', 'Kosovská republika|Kosovo', 'Portoriko', 'Singapur',\n",
       "       'Tádžikistán', 'Malajsie', 'Mexiko', 'Alžírsko', 'Irsko', 'Litva',\n",
       "       'Bulharsko', 'Venezuela', 'Indie', 'Mongolsko', 'Burundi',\n",
       "       'Grenada', 'Niger', 'Filipíny', 'Katar', 'Norsko', 'Egypt',\n",
       "       'Tunisko', 'Izrael', 'Rakousko', 'Dominikánská republika',\n",
       "       'Estonsko', 'Finsko', 'Maroko', 'Moldavsko', 'Nigérie',\n",
       "       'Portugalsko', 'Trinidad a Tobago', 'Spojené arabské emiráty'],\n",
       "      dtype=object)"
      ]
     },
     "execution_count": 7,
     "metadata": {},
     "output_type": "execute_result"
    }
   ],
   "source": [
    "data[\"Země\"].unique()"
   ]
  },
  {
   "cell_type": "code",
   "execution_count": 14,
   "metadata": {},
   "outputs": [
    {
     "data": {
      "text/plain": [
       "360"
      ]
     },
     "execution_count": 14,
     "metadata": {},
     "output_type": "execute_result"
    }
   ],
   "source": [
    "data[\"Bronz\"].sum()"
   ]
  },
  {
   "cell_type": "code",
   "execution_count": null,
   "metadata": {},
   "outputs": [],
   "source": []
  }
 ],
 "metadata": {
  "kernelspec": {
   "display_name": "Python 3",
   "language": "python",
   "name": "python3"
  },
  "language_info": {
   "codemirror_mode": {
    "name": "ipython",
    "version": 3
   },
   "file_extension": ".py",
   "mimetype": "text/x-python",
   "name": "python",
   "nbconvert_exporter": "python",
   "pygments_lexer": "ipython3",
   "version": "3.12.3"
  }
 },
 "nbformat": 4,
 "nbformat_minor": 2
}
