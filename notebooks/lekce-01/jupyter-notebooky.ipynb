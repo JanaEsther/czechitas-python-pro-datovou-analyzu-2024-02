{
 "cells": [
  {
   "cell_type": "markdown",
   "metadata": {},
   "source": [
    "# Jupyter Notebook Intro"
   ]
  },
  {
   "cell_type": "markdown",
   "metadata": {},
   "source": [
    "Jupyter Notebook je webový editor sloužící k vytváření komplexních dokumentů.\n",
    "\n",
    "Může obsahovat strukturovaný text, obrázky i kód (nejen v Pythonu), grafy, matematické vzorce (LaTeX) a další interaktivní prvky.\n",
    "\n",
    "Dokumentace: https://jupyter.org"
   ]
  },
  {
   "cell_type": "markdown",
   "metadata": {},
   "source": [
    "## Instalace"
   ]
  },
  {
   "cell_type": "code",
   "execution_count": 2,
   "metadata": {},
   "outputs": [],
   "source": [
    "!python -m pip install jupyter # pro Windows\n",
    "# !python3 -m pip install jupyter # pro Mac OS, Linux"
   ]
  },
  {
   "cell_type": "code",
   "execution_count": 1,
   "metadata": {},
   "outputs": [
    {
     "name": "stdout",
     "output_type": "stream",
     "text": [
      "module is installed\n"
     ]
    }
   ],
   "source": [
    "try:\n",
    "    import jupyter\n",
    "\n",
    "    print(\"module is installed\")\n",
    "except ModuleNotFoundError:\n",
    "    print(\"module is not installed\")"
   ]
  },
  {
   "cell_type": "markdown",
   "metadata": {},
   "source": [
    "## Spuštění ve VS Code"
   ]
  },
  {
   "cell_type": "markdown",
   "metadata": {},
   "source": [
    "Z nabídky rozšíření VS Codu si nainstalujeme si rozšířšní **Jupyter**."
   ]
  },
  {
   "cell_type": "markdown",
   "metadata": {},
   "source": [
    "<img src=\"../../img/jupyter-extension.png\" alt=\"vsc-extension\" style=\"width: 800px;\"/>\n"
   ]
  },
  {
   "cell_type": "markdown",
   "metadata": {},
   "source": [
    "Vytvoříme si nový dokument s příponou `.ipynb`. "
   ]
  },
  {
   "cell_type": "markdown",
   "metadata": {},
   "source": [
    "Notebook má dva typy buněk:\n",
    "* **Markdown** - slouží k formátované dokumentaci\n",
    "* **Code** - slouží ke spouštění kódu v Pythonu"
   ]
  },
  {
   "cell_type": "code",
   "execution_count": 2,
   "metadata": {},
   "outputs": [
    {
     "name": "stdout",
     "output_type": "stream",
     "text": [
      "Hello world!\n"
     ]
    }
   ],
   "source": [
    "print(\"Hello world!\")"
   ]
  },
  {
   "cell_type": "markdown",
   "metadata": {},
   "source": [
    "Nemusíme pokaždé využívat `print` - buňka vždy vypíše vypíše výsledek posledního příkazu:"
   ]
  },
  {
   "cell_type": "code",
   "execution_count": 3,
   "metadata": {},
   "outputs": [
    {
     "data": {
      "text/plain": [
       "200"
      ]
     },
     "execution_count": 3,
     "metadata": {},
     "output_type": "execute_result"
    }
   ],
   "source": [
    "a = 185\n",
    "b = 15\n",
    "a + b"
   ]
  },
  {
   "cell_type": "markdown",
   "metadata": {},
   "source": [
    "Do buněk s kódem můžeme psát vše, co jsme psali do programů - příkazy, funkce, třídy, výpočty ... :"
   ]
  },
  {
   "cell_type": "code",
   "execution_count": null,
   "metadata": {},
   "outputs": [],
   "source": [
    "# Definice proměnné\n",
    "cislo = 42"
   ]
  },
  {
   "cell_type": "code",
   "execution_count": 7,
   "metadata": {},
   "outputs": [],
   "source": [
    "# Definice funkce\n",
    "def vytiskni_pozdrav(jmeno):\n",
    "    return f\"Ahoj, {jmeno}!\""
   ]
  },
  {
   "cell_type": "markdown",
   "metadata": {},
   "source": [
    "Po spuštění buňky je její výsledek (například nová proměnná, definice funkce, definice třídy ...) dostupný v celém notebooku:"
   ]
  },
  {
   "cell_type": "code",
   "execution_count": 13,
   "metadata": {},
   "outputs": [
    {
     "name": "stdout",
     "output_type": "stream",
     "text": [
      "Hodnota proměnné 'cislo' je: 10\n"
     ]
    }
   ],
   "source": [
    "# Použití proměnné definované v předchozí buňce\n",
    "print(f\"Hodnota proměnné 'cislo' je: {cislo}\")"
   ]
  },
  {
   "cell_type": "code",
   "execution_count": 9,
   "metadata": {},
   "outputs": [
    {
     "name": "stdout",
     "output_type": "stream",
     "text": [
      "Ahoj, Karel!\n"
     ]
    }
   ],
   "source": [
    "# Volání funkce\n",
    "print(vytiskni_pozdrav(\"Karel\"))"
   ]
  },
  {
   "cell_type": "markdown",
   "metadata": {},
   "source": [
    "Pozor, **na pořadí spuštění buněk záleží**:"
   ]
  },
  {
   "cell_type": "code",
   "execution_count": 12,
   "metadata": {},
   "outputs": [
    {
     "name": "stdout",
     "output_type": "stream",
     "text": [
      "Hodnota proměnné 'cislo' je: 10\n"
     ]
    }
   ],
   "source": [
    "# Vypíšeme hodnotu proměnné\n",
    "print(f\"Hodnota proměnné 'cislo' je: {cislo}\")"
   ]
  },
  {
   "cell_type": "code",
   "execution_count": 11,
   "metadata": {},
   "outputs": [],
   "source": [
    "# Definujeme proměnnou\n",
    "cislo = 10"
   ]
  },
  {
   "cell_type": "markdown",
   "metadata": {},
   "source": [
    "## Cvičení\n",
    "* Ověř, že máš nainstalované rozšíření Jupyter.\n",
    "* Vytvoř si prázdný Jupyter notebook a vyzkoušej, že v něm můžeš spustit nějaký jednoduchý příkaz v Pythonu."
   ]
  },
  {
   "cell_type": "markdown",
   "metadata": {},
   "source": [
    "## Tipy"
   ]
  },
  {
   "cell_type": "code",
   "execution_count": 2,
   "metadata": {},
   "outputs": [
    {
     "name": "stdout",
     "output_type": "stream",
     "text": [
      "janaesther\\jana obendraufova\n"
     ]
    }
   ],
   "source": [
    "## Příkazová řádka\n",
    "\n",
    "!whoami"
   ]
  },
  {
   "cell_type": "code",
   "execution_count": 1,
   "metadata": {},
   "outputs": [
    {
     "name": "stdout",
     "output_type": "stream",
     "text": [
      "Defaulting to user installation because normal site-packages is not writeable\n"
     ]
    },
    {
     "name": "stderr",
     "output_type": "stream",
     "text": [
      "ERROR: Invalid requirement: '#'\n",
      "Python se nepovedlo naj�t. Spu\n"
     ]
    }
   ],
   "source": [
    "## Instalace knihoven\n",
    "\n",
    "!python -pipm  install pandas # pro Windows\n",
    "!python3 -m pip install pandas # pro Mac OS, Linux"
   ]
  },
  {
   "cell_type": "markdown",
   "metadata": {},
   "source": [
    "15 Tips and Tricks to Use Jupyter Notebook More Efficiently\n",
    "\n",
    "<https://towardsdatascience.com/15-tips-and-tricks-to-use-jupyter-notebook-more-efficiently-ef05ede4e4b9>"
   ]
  },
  {
   "cell_type": "markdown",
   "metadata": {},
   "source": []
  }
 ],
 "metadata": {
  "kernelspec": {
   "display_name": "Python 3.10.1 64-bit",
   "language": "python",
   "name": "python3"
  },
  "language_info": {
   "codemirror_mode": {
    "name": "ipython",
    "version": 3
   },
   "file_extension": ".py",
   "mimetype": "text/x-python",
   "name": "python",
   "nbconvert_exporter": "python",
   "pygments_lexer": "ipython3",
   "version": "3.12.2"
  },
  "orig_nbformat": 4,
  "vscode": {
   "interpreter": {
    "hash": "aee8b7b246df8f9039afb4144a1f6fd8d2ca17a180786b69acc140d282b71a49"
   }
  }
 },
 "nbformat": 4,
 "nbformat_minor": 2
}
